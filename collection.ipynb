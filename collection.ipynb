{
 "cells": [
  {
   "cell_type": "code",
   "execution_count": null,
   "id": "a400dbba",
   "metadata": {},
   "outputs": [],
   "source": [
    "#List\n",
    "nums = [1,2,3,4,5,6,7,8,9,10]\n",
    "print(nums)\n",
    "print(nums[0])\n",
    "print(nums[3])\n",
    "print(nums[-1])\n",
    "print(nums[2:5])\n",
    "print(nums[0:5:2])\n",
    "print(nums[1::2])\n",
    "print(nums[1:-1:2])\n",
    "print(nums[1:-1:5])\n",
    "print(nums[::-1])\n",
    "print(nums[-1:0:-1])\n",
    "\n",
    "#list methods\n",
    "nums.append(11)\n",
    "print(nums)\n",
    "nums.insert(2,2.5)\n",
    "print(nums)\n",
    "nums.remove(2.5)\n",
    "print(nums)\n",
    "nums.pop(2)\n",
    "print(nums)\n",
    "nums.pop()\n",
    "print(nums)\n",
    "del nums[2:4]\n",
    "print(nums)\n",
    "nums.extend([2.5,11,12,13])\n",
    "print(nums)\n",
    "print(min(nums))\n",
    "print(max(nums))\n",
    "print(sum(nums))\n",
    "nums.sort()\n",
    "print(nums)\n",
    "\n",
    "#tuple\n",
    "tp = (1,2,3)\n",
    "print(tp)\n",
    "print(tp[1])\n",
    "#tp[0] = 100\n",
    "print(tp)\n",
    "\n",
    "#tuple methods\n",
    "print(tp.count(1))\n",
    "print(tp.index(1))\n",
    "\n",
    "\n",
    "\n"
   ]
  }
 ],
 "metadata": {
  "language_info": {
   "name": "python"
  }
 },
 "nbformat": 4,
 "nbformat_minor": 5
}
