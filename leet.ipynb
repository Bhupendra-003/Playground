{
 "cells": [
  {
   "cell_type": "code",
   "execution_count": null,
   "id": "c8e96643",
   "metadata": {},
   "outputs": [
    {
     "name": "stdout",
     "output_type": "stream",
     "text": [
      "resulted nums:  [3, 2, 1, 5, 6, 4]\n"
     ]
    }
   ],
   "source": [
    "# Second Largest element in the array without Sorting\n",
    "\n",
    "Contribute for the sake of the contribution"
   ]
  }
 ],
 "metadata": {
  "kernelspec": {
   "display_name": "Python 3",
   "language": "python",
   "name": "python3"
  },
  "language_info": {
   "codemirror_mode": {
    "name": "ipython",
    "version": 3
   },
   "file_extension": ".py",
   "mimetype": "text/x-python",
   "name": "python",
   "nbconvert_exporter": "python",
   "pygments_lexer": "ipython3",
   "version": "3.13.3"
  }
 },
 "nbformat": 4,
 "nbformat_minor": 5
}
